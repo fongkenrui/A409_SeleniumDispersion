{
 "cells": [
  {
   "cell_type": "code",
   "execution_count": null,
   "metadata": {
    "tags": []
   },
   "outputs": [],
   "source": [
    "import numpy as np\n",
    "import xarray as xr\n",
    "from modules.integrator import forward_euler_final\n",
    "from modules.classes import Quantity2D, Analytic, Interpolate\n",
    "from modules.tests import plot_mass_conservation, test_gaussian\n",
    "import matplotlib.pyplot as plt\n",
    "from modules.geometries import square_2a\n"
   ]
  },
  {
   "cell_type": "markdown",
   "metadata": {},
   "source": [
    "# Initialize a constant diffusion coefficient function\n",
    "diffusion = Analytic(lambda x, y: x*y)\n",
    "diffusion.set_partial_x(lambda x, y: y)\n",
    "diffusion.set_partial_y(lambda x, y: x)"
   ]
  },
  {
   "cell_type": "code",
   "execution_count": null,
   "metadata": {
    "tags": []
   },
   "outputs": [],
   "source": []
  },
  {
   "cell_type": "code",
   "execution_count": null,
   "metadata": {
    "tags": []
   },
   "outputs": [],
   "source": [
    "n_grid = 100\n",
    "n_time = 500\n",
    "dt = 0.0001\n",
    "dx = 0.01\n",
    "dy = 0.01\n",
    "\n",
    "conc = Quantity2D(\n",
    "    n_grid,\n",
    "    n_time,\n",
    "    (-0.5*n_grid*dx, 0.5*n_grid*dx),\n",
    "    (-0.5*n_grid*dy, 0.5*n_grid*dy),\n",
    "    (0, dt*n_time),\n",
    ")\n",
    "\n",
    "xcoords = conc.xcoords\n",
    "ycoords = conc.ycoords\n",
    "X, Y = np.meshgrid(xcoords, ycoords)\n",
    "initial_condition = 1*np.exp(- (X**2 + Y**2)/(0.05*dx*n_grid)**2)\n",
    "sources =  1*np.exp(- (X**2 + Y**2)/(0.05*dx*n_grid)**2)\n",
    "#initial_condition = np.empty_like(X)\n",
    "#initial_condition[n_grid//2, n_grid//2] = 100\n",
    "diffarr = 0.02*np.ones((10, 10))\n",
    "diffarr[:,4:-4] = 0.2 # Vary along x; partial_x should be constant\n",
    "xint = np.linspace(-0.5*n_grid*dx, 0.5*n_grid*dx, 10)\n",
    "yint = np.linspace(-0.5*n_grid*dy, 0.5*n_grid*dy, 10)\n",
    "diffusion = Interpolate(diffarr, xint, yint, s=0)\n",
    "diffusion.plot_2D(func='func')\n",
    "\n"
   ]
  },
  {
   "cell_type": "code",
   "execution_count": null,
   "metadata": {},
   "outputs": [],
   "source": [
    "fig = plt.figure()\n",
    "ax = plt.axes(projection='3d')\n",
    "ax.plot_surface(X, Y, initial_condition)"
   ]
  },
  {
   "cell_type": "code",
   "execution_count": null,
   "metadata": {
    "tags": []
   },
   "outputs": [],
   "source": [
    "result_ds = forward_euler_final(conc, diffusion, initial_condition, sources)\n",
    "result_ds"
   ]
  },
  {
   "cell_type": "code",
   "execution_count": null,
   "metadata": {
    "tags": []
   },
   "outputs": [],
   "source": [
    "xr.plot.contourf(result_ds['concentration'].isel(t=100), levels=50)\n"
   ]
  },
  {
   "cell_type": "code",
   "execution_count": null,
   "metadata": {
    "tags": []
   },
   "outputs": [],
   "source": [
    "fig, ax = plot_mass_conservation(result_ds)"
   ]
  },
  {
   "cell_type": "code",
   "execution_count": null,
   "metadata": {},
   "outputs": [],
   "source": [
    "diff = test_gaussian(forward_euler_final)"
   ]
  },
  {
   "cell_type": "code",
   "execution_count": null,
   "metadata": {},
   "outputs": [],
   "source": [
    "xr.plot.contourf(diff.isel(t=100), levels=30)"
   ]
  },
  {
   "cell_type": "code",
   "execution_count": null,
   "metadata": {},
   "outputs": [],
   "source": [
    "diff.median(dim=('x','y')).plot()"
   ]
  },
  {
   "cell_type": "code",
   "execution_count": null,
   "metadata": {},
   "outputs": [],
   "source": [
    "diff.mean(dim=('x','y')).plot()"
   ]
  },
  {
   "cell_type": "code",
   "execution_count": null,
   "metadata": {},
   "outputs": [],
   "source": [
    "xrange = (-10, 10)\n",
    "yrange = (-10, 10)\n",
    "trange=(0, 1)\n",
    "n_grid = 100\n",
    "n_time = 500\n",
    "conc = Quantity2D(\n",
    "    n_grid,\n",
    "    n_time,\n",
    "    xrange,\n",
    "    yrange,\n",
    "    trange,\n",
    ")\n",
    "xcoords = conc.xcoords\n",
    "ycoords = conc.ycoords\n",
    "tcoords = conc.tcoords\n",
    "X, Y = np.meshgrid(xcoords, ycoords, indexing='ij')\n",
    "initial_condition =  (1/(4*np.pi))*np.exp(- (X**2 + Y**2)/1)\n",
    "fig = plt.figure()\n",
    "ax = plt.axes(projection='3d')\n",
    "ax.plot_surface(X, Y, initial_condition)"
   ]
  },
  {
   "cell_type": "code",
   "execution_count": 19,
   "metadata": {
    "tags": []
   },
   "outputs": [
    {
     "name": "stdout",
     "output_type": "stream",
     "text": [
      "[[0.2 0.2 0.2 0.2 0.2 0.1 0.1 0.1 0.1 0.1]\n",
      " [0.2 0.2 0.2 0.2 0.2 0.1 0.1 0.1 0.1 0.1]\n",
      " [0.2 0.2 0.2 0.2 0.2 0.1 0.1 0.1 0.1 0.1]\n",
      " [0.2 0.2 0.2 0.2 0.2 0.1 0.1 0.1 0.1 0.1]\n",
      " [0.2 0.2 0.2 0.2 0.2 0.1 0.1 0.1 0.1 0.1]\n",
      " [0.1 0.1 0.1 0.1 0.1 0.1 0.1 0.1 0.1 0.1]\n",
      " [0.1 0.1 0.1 0.1 0.1 0.1 0.1 0.1 0.1 0.1]\n",
      " [0.1 0.1 0.1 0.1 0.1 0.1 0.1 0.1 0.1 0.1]\n",
      " [0.1 0.1 0.1 0.1 0.1 0.1 0.1 0.1 0.1 0.1]\n",
      " [0.1 0.1 0.1 0.1 0.1 0.1 0.1 0.1 0.1 0.1]]\n"
     ]
    },
    {
     "ename": "IndexError",
     "evalue": "tuple index out of range",
     "output_type": "error",
     "traceback": [
      "\u001b[0;31m---------------------------------------------------------------------------\u001b[0m",
      "\u001b[0;31mIndexError\u001b[0m                                Traceback (most recent call last)",
      "Cell \u001b[0;32mIn[19], line 25\u001b[0m\n\u001b[1;32m     23\u001b[0m xint \u001b[38;5;241m=\u001b[39m np\u001b[38;5;241m.\u001b[39mlinspace(\u001b[38;5;241m-\u001b[39m\u001b[38;5;241m0.5\u001b[39m\u001b[38;5;241m*\u001b[39mn_grid\u001b[38;5;241m*\u001b[39mdx, \u001b[38;5;241m0.5\u001b[39m\u001b[38;5;241m*\u001b[39mn_grid\u001b[38;5;241m*\u001b[39mdx, \u001b[38;5;241m10\u001b[39m)\n\u001b[1;32m     24\u001b[0m yint \u001b[38;5;241m=\u001b[39m np\u001b[38;5;241m.\u001b[39mlinspace(\u001b[38;5;241m-\u001b[39m\u001b[38;5;241m0.5\u001b[39m\u001b[38;5;241m*\u001b[39mn_grid\u001b[38;5;241m*\u001b[39mdy, \u001b[38;5;241m0.5\u001b[39m\u001b[38;5;241m*\u001b[39mn_grid\u001b[38;5;241m*\u001b[39mdy, \u001b[38;5;241m10\u001b[39m)\n\u001b[0;32m---> 25\u001b[0m diffusion \u001b[38;5;241m=\u001b[39m Interpolate(diffarr, xint, yint, s\u001b[38;5;241m=\u001b[39m\u001b[38;5;241m0\u001b[39m)\n\u001b[1;32m     26\u001b[0m diffarr \u001b[38;5;241m=\u001b[39m \u001b[38;5;241m0.02\u001b[39m\u001b[38;5;241m*\u001b[39mnp\u001b[38;5;241m.\u001b[39mones((\u001b[38;5;241m10\u001b[39m, \u001b[38;5;241m10\u001b[39m))\n\u001b[1;32m     27\u001b[0m diffarr[:,\u001b[38;5;241m4\u001b[39m:\u001b[38;5;241m-\u001b[39m\u001b[38;5;241m4\u001b[39m] \u001b[38;5;241m=\u001b[39m \u001b[38;5;241m0.2\u001b[39m \u001b[38;5;66;03m# Vary along x; partial_x should be constant\u001b[39;00m\n",
      "File \u001b[0;32m~/Documents/GitHub/A409_SeleniumDispersion/modules/classes.py:64\u001b[0m, in \u001b[0;36mInterpolate.__init__\u001b[0;34m(self, array, xcoords, ycoords, s)\u001b[0m\n\u001b[1;32m     53\u001b[0m \u001b[38;5;250m\u001b[39m\u001b[38;5;124;03m\"\"\"Takes in an array of values f(x, y) with vectors of x and y values,\u001b[39;00m\n\u001b[1;32m     54\u001b[0m \u001b[38;5;124;03mand performs 2-D spline interpolation Scipy.RectBivariateSpline\u001b[39;00m\n\u001b[1;32m     55\u001b[0m \n\u001b[0;32m   (...)\u001b[0m\n\u001b[1;32m     60\u001b[0m \u001b[38;5;124;03m    s (float): Smoothing parameter for interpolation\u001b[39;00m\n\u001b[1;32m     61\u001b[0m \u001b[38;5;124;03m\"\"\"\u001b[39;00m\n\u001b[1;32m     63\u001b[0m \u001b[38;5;66;03m# Attribute storing the actual spline function, needed for plot_2D parent method\u001b[39;00m\n\u001b[0;32m---> 64\u001b[0m spline \u001b[38;5;241m=\u001b[39m RectBivariateSpline(xcoords, ycoords, array, s\u001b[38;5;241m=\u001b[39ms)\n\u001b[1;32m     65\u001b[0m \u001b[38;5;28mself\u001b[39m\u001b[38;5;241m.\u001b[39mfunc \u001b[38;5;241m=\u001b[39m \u001b[38;5;28;01mlambda\u001b[39;00m x, y: spline(x, y, grid\u001b[38;5;241m=\u001b[39m\u001b[38;5;28;01mFalse\u001b[39;00m)\n\u001b[1;32m     66\u001b[0m \u001b[38;5;66;03m# Store spline derivatives so it does not get repeatedly constructed\u001b[39;00m\n",
      "File \u001b[0;32m~/anaconda3/lib/python3.11/site-packages/scipy/interpolate/_fitpack2.py:1588\u001b[0m, in \u001b[0;36mRectBivariateSpline.__init__\u001b[0;34m(self, x, y, z, bbox, kx, ky, s)\u001b[0m\n\u001b[1;32m   1586\u001b[0m \u001b[38;5;28;01mif\u001b[39;00m \u001b[38;5;129;01mnot\u001b[39;00m np\u001b[38;5;241m.\u001b[39mall(diff(y) \u001b[38;5;241m>\u001b[39m \u001b[38;5;241m0.0\u001b[39m):\n\u001b[1;32m   1587\u001b[0m     \u001b[38;5;28;01mraise\u001b[39;00m \u001b[38;5;167;01mValueError\u001b[39;00m(\u001b[38;5;124m'\u001b[39m\u001b[38;5;124my must be strictly increasing\u001b[39m\u001b[38;5;124m'\u001b[39m)\n\u001b[0;32m-> 1588\u001b[0m \u001b[38;5;28;01mif\u001b[39;00m \u001b[38;5;129;01mnot\u001b[39;00m x\u001b[38;5;241m.\u001b[39msize \u001b[38;5;241m==\u001b[39m z\u001b[38;5;241m.\u001b[39mshape[\u001b[38;5;241m0\u001b[39m]:\n\u001b[1;32m   1589\u001b[0m     \u001b[38;5;28;01mraise\u001b[39;00m \u001b[38;5;167;01mValueError\u001b[39;00m(\u001b[38;5;124m'\u001b[39m\u001b[38;5;124mx dimension of z must have same number of \u001b[39m\u001b[38;5;124m'\u001b[39m\n\u001b[1;32m   1590\u001b[0m                      \u001b[38;5;124m'\u001b[39m\u001b[38;5;124melements as x\u001b[39m\u001b[38;5;124m'\u001b[39m)\n\u001b[1;32m   1591\u001b[0m \u001b[38;5;28;01mif\u001b[39;00m \u001b[38;5;129;01mnot\u001b[39;00m y\u001b[38;5;241m.\u001b[39msize \u001b[38;5;241m==\u001b[39m z\u001b[38;5;241m.\u001b[39mshape[\u001b[38;5;241m1\u001b[39m]:\n",
      "\u001b[0;31mIndexError\u001b[0m: tuple index out of range"
     ]
    }
   ],
   "source": [
    "n_grid = 100\n",
    "n_time = 500\n",
    "dt = 0.0001\n",
    "dx = 0.01\n",
    "dy = 0.01\n",
    "\n",
    "conc = Quantity2D(\n",
    "    n_grid,\n",
    "    n_time,\n",
    "    (-0.5*n_grid*dx, 0.5*n_grid*dx),\n",
    "    (-0.5*n_grid*dy, 0.5*n_grid*dy),\n",
    "    (0, dt*n_time),\n",
    ")\n",
    "\n",
    "xcoords = conc.xcoords\n",
    "ycoords = conc.ycoords\n",
    "X, Y = np.meshgrid(xcoords, ycoords)\n",
    "initial_condition = 1*np.exp(- (X**2 + Y**2)/(0.05*dx*n_grid)**2)\n",
    "sources =  1*np.exp(- (X**2 + Y**2)/(0.05*dx*n_grid)**2)\n",
    "#initial_condition = np.empty_like(X)\n",
    "#initial_condition[n_grid//2, n_grid//2] = 100\n",
    "diffarr = square_2a(0.1,0.2)\n",
    "xint = np.linspace(-0.5*n_grid*dx, 0.5*n_grid*dx, 10)\n",
    "yint = np.linspace(-0.5*n_grid*dy, 0.5*n_grid*dy, 10)\n",
    "diffusion = Interpolate(diffarr, xint, yint, s=0)\n",
    "#diffarr = 0.02*np.ones((10, 10))\n",
    "#diffarr[:,4:-4] = 0.2 # Vary along x; partial_x should be constant\n",
    "diffusion.plot_2D(func='func')\n",
    "\n"
   ]
  },
  {
   "cell_type": "code",
   "execution_count": 17,
   "metadata": {
    "tags": []
   },
   "outputs": [
    {
     "name": "stdout",
     "output_type": "stream",
     "text": [
      "[[ 2.  2.  2.  2.  2. 10. 10. 10. 10. 10.]\n",
      " [ 2.  2.  2.  2.  2. 10. 10. 10. 10. 10.]\n",
      " [ 2.  2.  2.  2.  2. 10. 10. 10. 10. 10.]\n",
      " [ 2.  2.  2.  2.  2. 10. 10. 10. 10. 10.]\n",
      " [ 2.  2.  2.  2.  2. 10. 10. 10. 10. 10.]\n",
      " [10. 10. 10. 10. 10. 10. 10. 10. 10. 10.]\n",
      " [10. 10. 10. 10. 10. 10. 10. 10. 10. 10.]\n",
      " [10. 10. 10. 10. 10. 10. 10. 10. 10. 10.]\n",
      " [10. 10. 10. 10. 10. 10. 10. 10. 10. 10.]\n",
      " [10. 10. 10. 10. 10. 10. 10. 10. 10. 10.]]\n"
     ]
    }
   ],
   "source": []
  },
  {
   "cell_type": "code",
   "execution_count": null,
   "metadata": {},
   "outputs": [],
   "source": []
  }
 ],
 "metadata": {
  "kernelspec": {
   "display_name": "Python 3 (ipykernel)",
   "language": "python",
   "name": "python3"
  },
  "language_info": {
   "codemirror_mode": {
    "name": "ipython",
    "version": 3
   },
   "file_extension": ".py",
   "mimetype": "text/x-python",
   "name": "python",
   "nbconvert_exporter": "python",
   "pygments_lexer": "ipython3",
   "version": "3.11.5"
  },
  "vscode": {
   "interpreter": {
    "hash": "5d691731cf21328ba9f83edd537b50b2f358a3073fc736bb876aa1d9a4bcb65f"
   }
  }
 },
 "nbformat": 4,
 "nbformat_minor": 4
}
