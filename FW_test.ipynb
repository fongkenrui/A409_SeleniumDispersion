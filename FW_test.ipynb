{
 "cells": [
  {
   "cell_type": "code",
   "execution_count": null,
   "metadata": {
    "tags": []
   },
   "outputs": [],
   "source": [
    "import numpy as np\n",
    "import xarray as xr\n",
    "from modules.integrator import forward_euler_final\n",
    "from modules.classes import Quantity2D, Analytic, Interpolate\n",
    "from modules.tests import plot_mass_conservation, test_gaussian\n",
    "import matplotlib.pyplot as plt"
   ]
  },
  {
   "cell_type": "markdown",
   "metadata": {},
   "source": [
    "# Initialize a constant diffusion coefficient function\n",
    "diffusion = Analytic(lambda x, y: x*y)\n",
    "diffusion.set_partial_x(lambda x, y: y)\n",
    "diffusion.set_partial_y(lambda x, y: x)"
   ]
  },
  {
   "cell_type": "code",
   "execution_count": null,
   "metadata": {
    "tags": []
   },
   "outputs": [],
   "source": []
  },
  {
   "cell_type": "code",
   "execution_count": null,
   "metadata": {
    "tags": []
   },
   "outputs": [],
   "source": [
    "n_grid = 100\n",
    "n_time = 500\n",
    "dt = 0.0001\n",
    "dx = 0.01\n",
    "dy = 0.01\n",
    "\n",
    "conc = Quantity2D(\n",
    "    n_grid,\n",
    "    n_time,\n",
    "    (-0.5*n_grid*dx, 0.5*n_grid*dx),\n",
    "    (-0.5*n_grid*dy, 0.5*n_grid*dy),\n",
    "    (0, dt*n_time),\n",
    ")\n",
    "\n",
    "xcoords = conc.xcoords\n",
    "ycoords = conc.ycoords\n",
    "X, Y = np.meshgrid(xcoords, ycoords)\n",
    "initial_condition = 1*np.exp(- (X**2 + Y**2)/(0.05*dx*n_grid)**2)\n",
    "sources =  1*np.exp(- (X**2 + Y**2)/(0.05*dx*n_grid)**2)\n",
    "#initial_condition = np.empty_like(X)\n",
    "#initial_condition[n_grid//2, n_grid//2] = 100\n",
    "diffarr = 0.02*np.ones((10, 10))\n",
    "diffarr[:,4:-4] = 0.2 # Vary along x; partial_x should be constant\n",
    "xint = np.linspace(-0.5*n_grid*dx, 0.5*n_grid*dx, 10)\n",
    "yint = np.linspace(-0.5*n_grid*dy, 0.5*n_grid*dy, 10)\n",
    "diffusion = Interpolate(diffarr, xint, yint, s=0)\n",
    "diffarr = 0.02*np.ones((10, 10))\n",
    "diffarr[:,4:-4] = 0.2 # Vary along x; partial_x should be constant\n",
    "diffusion.plot_2D(func='func')\n",
    "\n"
   ]
  },
  {
   "cell_type": "code",
   "execution_count": null,
   "metadata": {},
   "outputs": [],
   "source": [
    "fig = plt.figure()\n",
    "ax = plt.axes(projection='3d')\n",
    "ax.plot_surface(X, Y, initial_condition)"
   ]
  },
  {
   "cell_type": "code",
   "execution_count": null,
   "metadata": {
    "tags": []
   },
   "outputs": [],
   "source": [
    "result_ds = forward_euler_final(conc, diffusion, initial_condition, sources)\n",
    "result_ds"
   ]
  },
  {
   "cell_type": "code",
   "execution_count": null,
   "metadata": {
    "tags": []
   },
   "outputs": [],
   "source": [
    "xr.plot.contourf(result_ds['concentration'].isel(t=100), levels=50)\n"
   ]
  },
  {
   "cell_type": "code",
   "execution_count": null,
   "metadata": {
    "tags": []
   },
   "outputs": [],
   "source": [
    "fig, ax = plot_mass_conservation(result_ds)"
   ]
  },
  {
   "cell_type": "code",
   "execution_count": null,
   "metadata": {},
   "outputs": [],
   "source": [
    "diff = test_gaussian(forward_euler_final)"
   ]
  },
  {
   "cell_type": "code",
   "execution_count": null,
   "metadata": {},
   "outputs": [],
   "source": [
    "xr.plot.contourf(diff.isel(t=100), levels=30)"
   ]
  },
  {
   "cell_type": "code",
   "execution_count": null,
   "metadata": {},
   "outputs": [],
   "source": [
    "diff.median(dim=('x','y')).plot()"
   ]
  },
  {
   "cell_type": "code",
   "execution_count": null,
   "metadata": {},
   "outputs": [],
   "source": [
    "diff.mean(dim=('x','y')).plot()"
   ]
  },
  {
   "cell_type": "code",
   "execution_count": null,
   "metadata": {},
   "outputs": [],
   "source": [
    "xrange = (-10, 10)\n",
    "yrange = (-10, 10)\n",
    "trange=(0, 1)\n",
    "n_grid = 100\n",
    "n_time = 500\n",
    "conc = Quantity2D(\n",
    "    n_grid,\n",
    "    n_time,\n",
    "    xrange,\n",
    "    yrange,\n",
    "    trange,\n",
    ")\n",
    "xcoords = conc.xcoords\n",
    "ycoords = conc.ycoords\n",
    "tcoords = conc.tcoords\n",
    "X, Y = np.meshgrid(xcoords, ycoords, indexing='ij')\n",
    "initial_condition =  (1/(4*np.pi))*np.exp(- (X**2 + Y**2)/1)\n",
    "fig = plt.figure()\n",
    "ax = plt.axes(projection='3d')\n",
    "ax.plot_surface(X, Y, initial_condition)"
   ]
  }
 ],
 "metadata": {
  "kernelspec": {
   "display_name": "Python 3 (ipykernel)",
   "language": "python",
   "name": "python3"
  },
  "language_info": {
   "codemirror_mode": {
    "name": "ipython",
    "version": 3
   },
   "file_extension": ".py",
   "mimetype": "text/x-python",
   "name": "python",
   "nbconvert_exporter": "python",
   "pygments_lexer": "ipython3",
   "version": "3.11.5"
  },
  "vscode": {
   "interpreter": {
    "hash": "5d691731cf21328ba9f83edd537b50b2f358a3073fc736bb876aa1d9a4bcb65f"
   }
  }
 },
 "nbformat": 4,
 "nbformat_minor": 4
}
