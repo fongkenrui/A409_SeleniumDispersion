{
 "cells": [
  {
   "cell_type": "code",
   "execution_count": null,
   "metadata": {},
   "outputs": [],
   "source": [
    "import numpy as np\n",
    "import xarray as xr\n",
    "from modules.ADI import ADI\n",
    "from modules.classes import Quantity2D, Analytic, Interpolate\n",
    "from modules.tests import plot_mass_conservation, calculate_boundary_flux, integrate_concentration\n",
    "from modules.functions import animate\n",
    "import matplotlib.pyplot as plt\n",
    "from modules.tests import test_gaussian\n",
    "import xarray as xr"
   ]
  },
  {
   "cell_type": "code",
   "execution_count": null,
   "metadata": {},
   "outputs": [],
   "source": [
    "# Initialize a constant diffusion coefficient function\n",
    "'''\n",
    "diffusion = Analytic(lambda x, y: y**2)\n",
    "diffusion.set_partial_x(lambda x, y: y)\n",
    "diffusion.set_partial_y(lambda x, y: x)\n",
    "'''\n"
   ]
  },
  {
   "cell_type": "code",
   "execution_count": null,
   "metadata": {},
   "outputs": [],
   "source": [
    "n_grid = 100\n",
    "n_time = 500\n",
    "dt = 0.0001\n",
    "dx = 0.005\n",
    "dy = 0.005\n",
    "conc = Quantity2D(\n",
    "    n_grid,\n",
    "    n_time,\n",
    "    (-0.5*n_grid*dx, 0.5*n_grid*dx),\n",
    "    (-0.5*n_grid*dy, 0.5*n_grid*dy),\n",
    "    (0, dt*n_time),\n",
    ")\n",
    "\n",
    "diffarr = 0.02*np.ones((10, 10))\n",
    "diffarr[:,4:-4] = 0.2 # Vary along x; partial_x should be constant\n",
    "xint = np.linspace(-0.5*n_grid*dx, 0.5*n_grid*dx, 10)\n",
    "yint = np.linspace(-0.5*n_grid*dy, 0.5*n_grid*dy, 10)\n",
    "diffusion = Interpolate(diffarr, xint, yint, s=0)\n",
    "\n",
    "diffusion.plot_2D(func='func')"
   ]
  },
  {
   "cell_type": "code",
   "execution_count": null,
   "metadata": {},
   "outputs": [],
   "source": [
    "xcoords = conc.xcoords\n",
    "ycoords = conc.ycoords\n",
    "X, Y = np.meshgrid(xcoords, ycoords)\n",
    "initial_condition = 1*np.exp(- (X**2 + Y**2)/(0.05*dx*n_grid)**2)\n",
    "sources =  1*np.exp(- (X**2 + Y**2)/(0.05*dx*n_grid)**2)\n",
    "#initial_condition = np.empty_like(X)\n",
    "#initial_condition[n_grid//2, n_grid//2] = 100\n",
    "\n",
    "fig = plt.figure()\n",
    "ax = plt.axes(projection='3d')\n",
    "ax.plot_surface(X, Y, sources)"
   ]
  },
  {
   "cell_type": "code",
   "execution_count": null,
   "metadata": {},
   "outputs": [],
   "source": [
    "result_ds = ADI(conc, diffusion, initial_condition, sources, BC='dirichlet')\n",
    "# Issue with explicit component vectors blowing up to infinity/nan values"
   ]
  },
  {
   "cell_type": "code",
   "execution_count": null,
   "metadata": {},
   "outputs": [],
   "source": [
    "result_ds"
   ]
  },
  {
   "cell_type": "code",
   "execution_count": null,
   "metadata": {},
   "outputs": [],
   "source": [
    "result_ds.to_netcdf('test_file.nc')"
   ]
  },
  {
   "cell_type": "code",
   "execution_count": null,
   "metadata": {},
   "outputs": [],
   "source": [
    "xr.plot.contourf(result_ds['concentration'].isel(t=100), levels=30)"
   ]
  },
  {
   "cell_type": "code",
   "execution_count": null,
   "metadata": {},
   "outputs": [],
   "source": [
    "from matplotlib import animation\n",
    "from mpl_toolkits.axes_grid1 import make_axes_locatable\n",
    "\n",
    "def animate(ds, vmin=None, vmax=None, cmap='RdBu_r', levels=30):\n",
    "    if not vmax:\n",
    "        vmax = ds['concentration'].max()\n",
    "        vmin = -vmax\n",
    "\n",
    "    n_time = ds.attrs['n_time']\n",
    "    fig, ax = plt.subplots()\n",
    "    div = make_axes_locatable(ax)\n",
    "    cax = div.append_axes('right', '5%', '5%')\n",
    "    x = ds.coords['x']\n",
    "    y = ds.coords['y']\n",
    "    tcoords = ds.coords['t'].values\n",
    "    z = ds['concentration'].values\n",
    "    conc = ax.contourf(x, y, z[:,:,0], cmap=cmap, levels=levels)\n",
    "    ax.set_xlabel(\"x\")\n",
    "    ax.set_ylabel(\"y\")\n",
    "    def animate(t):\n",
    "        ax.clear()\n",
    "        #cax.cla()\n",
    "        ax.set_title(\"time = %.3g\" % tcoords[t])\n",
    "        conc = ax.contourf(x, y, z[:,:,t], cmap=cmap, levels=levels)\n",
    "        #cbar = fig.colorbar(conc)\n",
    "        #conc.set_array(z[:,:,t])\n",
    "        return conc,\n",
    "    anim = animation.FuncAnimation(fig, animate, frames = n_time, interval=1, repeat=True, blit=False)\n",
    "    writergif = animation.PillowWriter(fps=20)\n",
    "    return anim, writergif"
   ]
  },
  {
   "cell_type": "code",
   "execution_count": null,
   "metadata": {},
   "outputs": [],
   "source": [
    "'''\n",
    "anim, writergif = animate(result_ds, levels=100)\n",
    "anim.save(r'test.gif',writer=writergif)\n",
    "plt.show()\n",
    "'''"
   ]
  },
  {
   "cell_type": "code",
   "execution_count": null,
   "metadata": {},
   "outputs": [],
   "source": [
    "fig, ax = plot_mass_conservation(result_ds)"
   ]
  },
  {
   "cell_type": "code",
   "execution_count": null,
   "metadata": {},
   "outputs": [],
   "source": [
    "test_int, test_analytic = test_gaussian(ADI, BC='dirichlet')\n",
    "diff = test_int - test_analytic"
   ]
  },
  {
   "cell_type": "code",
   "execution_count": null,
   "metadata": {},
   "outputs": [],
   "source": [
    "xr.plot.contourf(diff.isel(t=100), levels=30)"
   ]
  },
  {
   "cell_type": "code",
   "execution_count": null,
   "metadata": {},
   "outputs": [],
   "source": [
    "absdiff = np.absolute(diff)\n",
    "absdiff.median(dim=('x','y')).plot()"
   ]
  },
  {
   "cell_type": "code",
   "execution_count": null,
   "metadata": {},
   "outputs": [],
   "source": [
    "absdiff.mean(dim=('x','y')).plot()"
   ]
  }
 ],
 "metadata": {
  "kernelspec": {
   "display_name": "Python 3 (ipykernel)",
   "language": "python",
   "name": "python3"
  },
  "language_info": {
   "codemirror_mode": {
    "name": "ipython",
    "version": 3
   },
   "file_extension": ".py",
   "mimetype": "text/x-python",
   "name": "python",
   "nbconvert_exporter": "python",
   "pygments_lexer": "ipython3",
   "version": "3.11.5"
  }
 },
 "nbformat": 4,
 "nbformat_minor": 4
}
