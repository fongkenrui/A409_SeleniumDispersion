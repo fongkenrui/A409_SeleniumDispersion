{
 "cells": [
  {
   "cell_type": "code",
   "execution_count": 1,
   "id": "4c9a6caf-51a2-417a-a213-7803f3a50eb5",
   "metadata": {
    "tags": []
   },
   "outputs": [],
   "source": [
    "import numpy as np "
   ]
  },
  {
   "cell_type": "code",
   "execution_count": 11,
   "id": "99fb2a7a-0ae2-4ff8-9813-b6a36ecf8c0e",
   "metadata": {
    "tags": []
   },
   "outputs": [
    {
     "name": "stdout",
     "output_type": "stream",
     "text": [
      "[[2 2 2 2 2 2 2]\n",
      " [2 2 0 0 0 2 2]\n",
      " [2 0 0 0 0 0 2]\n",
      " [2 0 0 0 0 0 2]\n",
      " [2 2 0 0 0 2 2]\n",
      " [2 2 2 2 2 2 2]]\n"
     ]
    }
   ],
   "source": [
    "\"\"\"Soil Geometries for two types of soil. a and b are soil types\"\"\"\n",
    "\n",
    "#triangular matrix\n",
    "\n",
    "def traingle_2(a,b): \n",
    "    \n",
    "    a = np.full((10, 10), 0.02)  \n",
    "    b = np.tril(a)\n",
    "    matrix = a+b\n",
    "    \n",
    "    print(matrix)\n",
    "\n",
    "\n",
    "'Square matrices for two types of soil'\n",
    "\n",
    "#upper corner \n",
    "def square_2a(a,b):\n",
    "    \n",
    "    diffarr = a*np.ones((10, 10))\n",
    "    diffarr[:5,:5] = b # Vary along x; partial_x should be constant\n",
    "    print(diffarr)\n",
    "\n",
    "#horizontal division \n",
    "def square_2b(a,b):\n",
    "    \n",
    "    diffarr = a*np.ones((10, 10))\n",
    "    diffarr[:5,:] = b # Vary along x; partial_x should be constant\n",
    "    print(diffarr)\n",
    "\n",
    "#vertical division \n",
    "def square_2c(a,b):\n",
    "    \n",
    "    diffarr = a*np.ones((10, 10))\n",
    "    diffarr[:,:5] = b # Vary along x; partial_x should be constant\n",
    "    print(diffarr)\n",
    "    \n",
    "    \n",
    "\n",
    "\n",
    "# circular symmetry \n",
    "\n",
    "def circular(a,b):\n",
    "    \n",
    "    arr = np.array([[a,a,a,a,a,a,a],\n",
    "           [a,a,b,b,b,a,a],\n",
    "           [a,b,b,b,b,b,a],\n",
    "           [a,b,b,b,b,b,a],\n",
    "           [a,a,b,b,b,a,a],\n",
    "           [a,a,a,a,a,a,a]])\n",
    "    \n",
    "    print(arr)\n",
    "\n",
    "\n",
    "circular(2,0)\n"
   ]
  },
  {
   "cell_type": "code",
   "execution_count": null,
   "id": "6e9c2c5e-07ca-4da1-84e2-f64b20fa2b4c",
   "metadata": {
    "tags": []
   },
   "outputs": [],
   "source": []
  },
  {
   "cell_type": "code",
   "execution_count": null,
   "id": "37c09313-2eaf-44de-95c1-7b64d200bacd",
   "metadata": {
    "tags": []
   },
   "outputs": [],
   "source": []
  },
  {
   "cell_type": "code",
   "execution_count": null,
   "id": "b6409832-5231-47f0-844b-2da611786854",
   "metadata": {
    "tags": []
   },
   "outputs": [],
   "source": []
  },
  {
   "cell_type": "code",
   "execution_count": null,
   "id": "0be0dd2e-1632-4745-8642-fdfa87bfa77c",
   "metadata": {},
   "outputs": [],
   "source": []
  }
 ],
 "metadata": {
  "kernelspec": {
   "display_name": "Python 3 (ipykernel)",
   "language": "python",
   "name": "python3"
  },
  "language_info": {
   "codemirror_mode": {
    "name": "ipython",
    "version": 3
   },
   "file_extension": ".py",
   "mimetype": "text/x-python",
   "name": "python",
   "nbconvert_exporter": "python",
   "pygments_lexer": "ipython3",
   "version": "3.11.5"
  }
 },
 "nbformat": 4,
 "nbformat_minor": 5
}
