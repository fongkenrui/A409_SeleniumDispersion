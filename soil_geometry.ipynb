{
 "cells": [
  {
   "cell_type": "markdown",
   "id": "fc1362ea-5ceb-4384-b926-c23d1c455d1a",
   "metadata": {},
   "source": [
    "# Soil geometry\n",
    "\n",
    "This notebook visualizes soil geometries and saves their figures. Soil geometry is expressed by a matrix of diffusion coefficients corresponding to soil types. The matrix is created by interpolating a seed soil matrix, which is a 2D array with a minimum 5 x 5 size. For our simulation, three types of soils are used. So, three diffusion coefficients are defined and are used to create a seed soil matrix."
   ]
  },
  {
   "cell_type": "code",
   "execution_count": null,
   "id": "7e9f6101-33a7-4a15-9fca-bc7a2f3c5a7c",
   "metadata": {},
   "outputs": [],
   "source": [
    "import numpy as np\n",
    "import matplotlib.pyplot as plt\n",
    "import xarray as xr\n",
    "from modules.classes import Quantity2D, Analytic, Interpolate\n",
    "from modules.integrator import forward_euler_final\n",
    "from modules.geometries import *\n",
    "from modules.tests import plot_mass_conservation, test_gaussian"
   ]
  },
  {
   "cell_type": "markdown",
   "id": "9698aaf2-653a-4513-9978-50ddf9964fdd",
   "metadata": {},
   "source": [
    "## Common setup\n"
   ]
  },
  {
   "cell_type": "code",
   "execution_count": null,
   "id": "ba57b1e0-0549-4d38-a34d-ae275f1dedf5",
   "metadata": {},
   "outputs": [],
   "source": [
    "#### common setup\n",
    "\n",
    "n_grid = 100\n",
    "n_time = 5000\n",
    "dt = 0.0001\n",
    "dx = 0.01  # meter\n",
    "dy = 0.01\n",
    "\n",
    "scaling_factor = 3.15576e10\n",
    "\n",
    "# Diffusion coefficients of soils m^2 s^-1\n",
    "D_high = 5.0e-12 * scaling_factor\n",
    "D_medium = 1.0e-12 * scaling_factor\n",
    "D_low = 5.0e-13 * scaling_factor\n",
    "D_background = 2.5e-12 * scaling_factor\n",
    "\n",
    "conc = Quantity2D(\n",
    "    n_grid,\n",
    "    n_time,\n",
    "    (-0.5*n_grid*dx, 0.5*n_grid*dx),\n",
    "    (-0.5*n_grid*dy, 0.5*n_grid*dy),\n",
    "    (0, dt*n_time),\n",
    ")\n",
    "\n",
    "# array of actual x and y values on grid points\n",
    "xcoords = conc.xcoords\n",
    "ycoords = conc.ycoords\n",
    "\n",
    "X, Y = np.meshgrid(xcoords, ycoords)\n",
    "\n",
    "# create a 100 x 100 grid to hold factors for a gausian distribution\n",
    "# initial_condition = 1*np.exp(- (X**2 + Y**2)/(0.05*dx*n_grid)**2)\n",
    "initial_condition = 1*np.exp(- (X**2 + Y**2)/(0.1*dx*n_grid)**2)\n",
    "sources =  1*np.exp(- (X**2 + Y**2)/(0.1*dx*n_grid)**2)\n"
   ]
  },
  {
   "cell_type": "markdown",
   "id": "f3e696a7-f87b-4d2f-9baf-5912f3968dd5",
   "metadata": {},
   "source": [
    "### Check the distribution of initial conditions and sources"
   ]
  },
  {
   "cell_type": "code",
   "execution_count": null,
   "id": "d1e28126-ce0e-455d-9317-7ad11152f640",
   "metadata": {},
   "outputs": [],
   "source": [
    "fig_check, ax_check = plt.subplots(1, 2, figsize=(6,3))\n",
    "ax_check[0].contourf(X, Y, initial_condition, cmap='viridis')\n",
    "ax_check[0].set_aspect(1)\n",
    "ax_check[1].contourf(X, Y, sources, cmap='viridis')\n",
    "ax_check[1].set_aspect(1)\n",
    "plt.show()\n"
   ]
  },
  {
   "cell_type": "markdown",
   "id": "ae32ccce-0957-40a5-8e5b-d95be53bd83c",
   "metadata": {},
   "source": [
    "### Stability test\n",
    "\n",
    "The stability of setting values should be checked with $\\frac{(D \\times dt)}{(dx)^2}$ < 0.5.\n"
   ]
  },
  {
   "cell_type": "code",
   "execution_count": null,
   "id": "976ec448-76fd-4fab-a2e2-e01d139d4e7e",
   "metadata": {},
   "outputs": [],
   "source": [
    "tested = (D_medium * dt) / dx**2\n",
    "if tested < 0.5:\n",
    "    print(f'Passed the stability test with {tested}')\n",
    "else:\n",
    "    print(f'Failed the stability test with {tested}')\n"
   ]
  },
  {
   "cell_type": "markdown",
   "id": "78211dc6-2eb0-40bf-abf5-18587c978988",
   "metadata": {},
   "source": [
    "\n",
    "## Soil Geometries"
   ]
  },
  {
   "cell_type": "markdown",
   "id": "95b0766a-e5f3-475e-af47-dc2fca4a008b",
   "metadata": {},
   "source": [
    "### 3 soil types in Square Layers"
   ]
  },
  {
   "cell_type": "code",
   "execution_count": null,
   "id": "76a3fc8c-b3a9-439f-8c15-25e51473af8b",
   "metadata": {},
   "outputs": [],
   "source": [
    "fig_s, ax_s = plot_soil_geometry(conc, square_layers, [D_high, D_medium, D_low], D_background)\n",
    "fig_s.savefig(f'./plots/soil_matrix_{square_layers.__name__}.png')\n"
   ]
  },
  {
   "cell_type": "markdown",
   "id": "d27ec4cf-e0f4-4b62-a3d7-b6e9c1e334ce",
   "metadata": {},
   "source": [
    "### 2 soil types in Circular Configuration"
   ]
  },
  {
   "cell_type": "code",
   "execution_count": null,
   "id": "7a2cb308-8940-45d3-9ca8-300198bb916d",
   "metadata": {
    "tags": []
   },
   "outputs": [],
   "source": [
    "fig_circular, ax_circular = plot_soil_geometry(conc, circular, [D_low,D_high], D_background)\n",
    "fig_circular.savefig(f'./plots/soil_matrix_{circular.__name__}.png')\n"
   ]
  },
  {
   "cell_type": "markdown",
   "id": "575ddc16-6d8b-4a3f-a83a-ed21f0523d06",
   "metadata": {},
   "source": [
    "### 2 soil-types Horizontal-layered Square configuration"
   ]
  },
  {
   "cell_type": "code",
   "execution_count": null,
   "id": "a20d816c-9123-4ab8-81bd-e1eeab4d819a",
   "metadata": {
    "tags": []
   },
   "outputs": [],
   "source": [
    "fig_sqh2, ax_sqh2 = plot_soil_geometry(conc, square_horizontal_2layers, [D_high, D_medium], D_background)\n",
    "fig_sqh2.savefig(f'./plots/soil_matrix_{square_horizontal_2layers.__name__}.png')\n"
   ]
  },
  {
   "cell_type": "markdown",
   "id": "686044f8-c8de-4329-a061-a34bda54bb03",
   "metadata": {},
   "source": [
    "## Simulation\n"
   ]
  },
  {
   "cell_type": "markdown",
   "id": "9dde6603-dfd1-4b5b-bbf4-855ad31bfcc4",
   "metadata": {},
   "source": [
    "### 3 soil types in Square Layers"
   ]
  },
  {
   "cell_type": "code",
   "execution_count": null,
   "id": "89a01f2d-dace-450b-ab5b-552873dc1810",
   "metadata": {},
   "outputs": [],
   "source": [
    "diffusion_sql = create_soil_geometry(conc, square_layers, [D_high, D_medium, D_low], D_background)\n",
    "result_ds_sql = forward_euler_final(conc, diffusion_sql, initial_condition, sources)\n"
   ]
  },
  {
   "cell_type": "code",
   "execution_count": null,
   "id": "fa9c9f88-667f-469c-960b-7afe6edac939",
   "metadata": {},
   "outputs": [],
   "source": [
    "contour_sql = xr.plot.contourf(result_ds_sql['concentration'].isel(t=4999), levels=50)\n",
    "plt.savefig(f'./plots/result_conc_{square_layers.__name__}.png', bbox_inches='tight', dpi=300)\n"
   ]
  },
  {
   "cell_type": "markdown",
   "id": "1e3c99f1-b93d-471a-915d-51d4e7881a18",
   "metadata": {},
   "source": [
    "### 2 soil types in Circular Configuration"
   ]
  },
  {
   "cell_type": "code",
   "execution_count": null,
   "id": "7475b158-692b-422f-aec3-9946987343de",
   "metadata": {
    "tags": []
   },
   "outputs": [],
   "source": [
    "# Use D_medium instead of D_low\n",
    "diffusion_c = create_soil_geometry(conc, circular ,[D_medium,D_high], D_background)\n",
    "result_ds_c = forward_euler_final(conc, diffusion_c, initial_condition, sources)\n"
   ]
  },
  {
   "cell_type": "code",
   "execution_count": null,
   "id": "13517996-379b-40e8-8b7e-b836e92126c8",
   "metadata": {
    "tags": []
   },
   "outputs": [],
   "source": [
    "contour_c = xr.plot.contourf(result_ds_c['concentration'].isel(t=4999), levels=50)\n",
    "plt.savefig(f'./plots/result_conc_{circular.__name__}.png', bbox_inches='tight', dpi=300)\n"
   ]
  },
  {
   "cell_type": "markdown",
   "id": "021550b1-0c39-4148-ad29-43b8fd1d08a9",
   "metadata": {},
   "source": [
    "### 2 soil-types Horizontal-layered Square configuration"
   ]
  },
  {
   "cell_type": "code",
   "execution_count": null,
   "id": "6ad49364-8a55-4206-867e-12f88c0765be",
   "metadata": {
    "tags": []
   },
   "outputs": [],
   "source": [
    "# Use D_medium instead of D_low\n",
    "diffusion_h = create_soil_geometry(conc,square_horizontal_2layers ,[D_medium,D_high], D_background)\n",
    "result_ds_h = forward_euler_final(conc, diffusion_h, initial_condition, sources)\n"
   ]
  },
  {
   "cell_type": "code",
   "execution_count": null,
   "id": "e105fce5-3ab7-457b-81d7-c797d3004898",
   "metadata": {
    "tags": []
   },
   "outputs": [],
   "source": [
    "contour_h = xr.plot.contourf(result_ds_h['concentration'].isel(t=4999), levels=50)\n",
    "plt.savefig(f'./plots/result_conc_{square_horizontal_2layers.__name__}.png', bbox_inches='tight', dpi=300)\n"
   ]
  }
 ],
 "metadata": {
  "kernelspec": {
   "display_name": "Python 3 (ipykernel)",
   "language": "python",
   "name": "python3"
  },
  "language_info": {
   "codemirror_mode": {
    "name": "ipython",
    "version": 3
   },
   "file_extension": ".py",
   "mimetype": "text/x-python",
   "name": "python",
   "nbconvert_exporter": "python",
   "pygments_lexer": "ipython3",
   "version": "3.12.2"
  }
 },
 "nbformat": 4,
 "nbformat_minor": 5
}
