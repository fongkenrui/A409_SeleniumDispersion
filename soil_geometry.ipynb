{
 "cells": [
  {
   "cell_type": "markdown",
   "id": "fc1362ea-5ceb-4384-b926-c23d1c455d1a",
   "metadata": {},
   "source": [
    "# Soil geometry\n",
    "\n",
    "This notebook visualizes soil geometries and saves their figures. Soil geometry is expressed by a matrix of diffusion coefficients corresponding to soil types. The matrix is created by interpolating a seed soil matrix, which is a 2D array with a minimum 5 x 5 size. For our simulation, three types of soils are used. So, three diffusion coefficients are defined and are used to create a seed soil matrix."
   ]
  },
  {
   "cell_type": "code",
   "execution_count": null,
   "id": "7e9f6101-33a7-4a15-9fca-bc7a2f3c5a7c",
   "metadata": {},
   "outputs": [],
   "source": [
    "import numpy as np\n",
    "import matplotlib.pyplot as plt\n",
    "import xarray as xr\n",
    "from modules.classes import Quantity2D, Analytic, Interpolate\n",
    "from modules.integrator import forward_euler_final\n",
    "from modules.geometries import *\n",
    "from modules.tests import plot_mass_conservation, test_gaussian"
   ]
  },
  {
   "cell_type": "markdown",
   "id": "9698aaf2-653a-4513-9978-50ddf9964fdd",
   "metadata": {},
   "source": [
    "## Common setup\n",
    "\n",
    "The stability of setting values should be checked with $\\frac{(D \\times dt)}{(dx)^2}$ < 0.5."
   ]
  },
  {
   "cell_type": "code",
   "execution_count": null,
   "id": "ba57b1e0-0549-4d38-a34d-ae275f1dedf5",
   "metadata": {},
   "outputs": [],
   "source": [
    "#### common setup\n",
    "\n",
    "n_grid = 100\n",
    "n_time = 500\n",
    "dt = 0.0001\n",
    "dx = 0.01\n",
    "dy = 0.01\n",
    "\n",
    "# Diffusion coefficients of soils m^2 s^-1\n",
    "D_high = 1.3e-12\n",
    "D_midium = 1.2e-12\n",
    "D_low = 1.1e-12\n",
    "D_background = 1.5e-12\n",
    "\n",
    "conc = Quantity2D(\n",
    "    n_grid,\n",
    "    n_time,\n",
    "    (-0.5*n_grid*dx, 0.5*n_grid*dx),\n",
    "    (-0.5*n_grid*dy, 0.5*n_grid*dy),\n",
    "    (0, dt*n_time),\n",
    ")\n",
    "\n",
    "# array of actual x and y values on grid points\n",
    "xcoords = conc.xcoords\n",
    "ycoords = conc.ycoords\n",
    "\n",
    "X, Y = np.meshgrid(xcoords, ycoords)\n",
    "\n",
    "# create a 100 x 100 grid to hold factors for a gausian distribution\n",
    "initial_condition = 1*np.exp(- (X**2 + Y**2)/(0.05*dx*n_grid)**2)\n",
    "sources =  1*np.exp(- (X**2 + Y**2)/(0.05*dx*n_grid)**2)\n"
   ]
  },
  {
   "cell_type": "markdown",
   "id": "78211dc6-2eb0-40bf-abf5-18587c978988",
   "metadata": {},
   "source": [
    "## Soil Geometries"
   ]
  },
  {
   "cell_type": "code",
   "execution_count": null,
   "id": "8b54575e-9973-4679-a94f-4e6b7e067d5d",
   "metadata": {},
   "outputs": [],
   "source": [
    "fig_t2, ax_t2 = plot_soil_geometry(conc, triangle_2, [D_high, D_midium], D_background)\n",
    "fig_t2.savefig(f'./plots/soil_matrix_{triangle_2.__name__}.png')\n"
   ]
  },
  {
   "cell_type": "code",
   "execution_count": null,
   "id": "25be8faa-d6b0-4586-91a9-ab07b0256710",
   "metadata": {},
   "outputs": [],
   "source": [
    "fig_sqv2, ax_sqv2 = plot_soil_geometry(conc, square_vertical_2layers, [D_high, D_midium], D_background)\n",
    "fig_sqv2.savefig(f'./plots/soil_matrix_{square_vertical_2layers.__name__}.png')\n"
   ]
  },
  {
   "cell_type": "code",
   "execution_count": null,
   "id": "76a3fc8c-b3a9-439f-8c15-25e51473af8b",
   "metadata": {},
   "outputs": [],
   "source": [
    "fig_s, ax_s = plot_soil_geometry(conc, square_layers, [D_high, D_midium, D_low], D_background)\n",
    "fig_s.savefig(f'./plots/soil_matrix_{square_layers.__name__}.png')\n"
   ]
  }
 ],
 "metadata": {
  "kernelspec": {
   "display_name": "Python 3 (ipykernel)",
   "language": "python",
   "name": "python3"
  },
  "language_info": {
   "codemirror_mode": {
    "name": "ipython",
    "version": 3
   },
   "file_extension": ".py",
   "mimetype": "text/x-python",
   "name": "python",
   "nbconvert_exporter": "python",
   "pygments_lexer": "ipython3",
   "version": "3.12.2"
  }
 },
 "nbformat": 4,
 "nbformat_minor": 5
}
