{
 "cells": [
  {
   "cell_type": "code",
   "execution_count": null,
   "metadata": {},
   "outputs": [],
   "source": [
    "import numpy as np\n",
    "import xarray as xr\n",
    "from modules.ADI import ADI\n",
    "from modules.classes import Quantity2D, Analytic, Interpolate\n",
    "from modules.integrator import forward_euler_final\n",
    "from modules.tests import plot_mass_conservation, calculate_boundary_flux, integrate_concentration\n",
    "from modules.functions import animate\n",
    "import matplotlib.pyplot as plt\n",
    "from modules.tests import test_gaussian\n",
    "import xarray as xr"
   ]
  },
  {
   "cell_type": "markdown",
   "metadata": {},
   "source": [
    "# Boundary Conditions Test"
   ]
  },
  {
   "cell_type": "code",
   "execution_count": null,
   "metadata": {},
   "outputs": [],
   "source": [
    "test_int1, test_analytic1 = test_gaussian(ADI, BC='dirichlet')\n",
    "diff1 = test_int1 - test_analytic1\n"
   ]
  },
  {
   "cell_type": "code",
   "execution_count": null,
   "metadata": {},
   "outputs": [],
   "source": [
    "xr.plot.contourf(test_analytic1.isel(t=900), levels=20)\n",
    "plt.suptitle(\"Analytic Heat Kernel\")"
   ]
  },
  {
   "cell_type": "code",
   "execution_count": null,
   "metadata": {},
   "outputs": [],
   "source": [
    "xr.plot.contourf(diff1.isel(t=900), levels=30)\n",
    "plt.title('Dirichlet')"
   ]
  },
  {
   "cell_type": "code",
   "execution_count": null,
   "metadata": {},
   "outputs": [],
   "source": [
    "absdiff1 = np.absolute(diff1)\n",
    "absdiff1.median(dim=('x','y')).plot()"
   ]
  },
  {
   "cell_type": "code",
   "execution_count": null,
   "metadata": {},
   "outputs": [],
   "source": [
    "absdiff1.mean(dim=('x','y')).plot()"
   ]
  },
  {
   "cell_type": "code",
   "execution_count": null,
   "metadata": {},
   "outputs": [],
   "source": [
    "test_int2, test_analytic2 = test_gaussian(ADI, BC='neumann') # Time to check whether the neumann conditions are correct\n",
    "diff2 = test_int2 - test_analytic2"
   ]
  },
  {
   "cell_type": "code",
   "execution_count": null,
   "metadata": {},
   "outputs": [],
   "source": [
    "xr.plot.contourf(diff2.isel(t=900), levels=30, cmap='Reds')\n",
    "plt.title('Neumann')"
   ]
  },
  {
   "cell_type": "code",
   "execution_count": null,
   "metadata": {},
   "outputs": [],
   "source": [
    "absdiff2 = np.absolute(diff2)\n",
    "absdiff2.median(dim=('x','y')).plot()"
   ]
  },
  {
   "cell_type": "code",
   "execution_count": null,
   "metadata": {},
   "outputs": [],
   "source": [
    "absdiff2.mean(dim=('x','y')).plot()"
   ]
  },
  {
   "cell_type": "code",
   "execution_count": null,
   "metadata": {},
   "outputs": [],
   "source": [
    "test_int3, test_analytic3 = test_gaussian(ADI, BC='open')\n",
    "diff3 = test_int3 - test_analytic3"
   ]
  },
  {
   "cell_type": "code",
   "execution_count": null,
   "metadata": {},
   "outputs": [],
   "source": [
    "xr.plot.contourf(diff3.isel(t=900), levels=30)\n",
    "plt.title('Pseudo-Open')"
   ]
  },
  {
   "cell_type": "code",
   "execution_count": null,
   "metadata": {},
   "outputs": [],
   "source": [
    "absdiff3 = np.absolute(diff3)\n",
    "absdiff3.median(dim=('x','y')).plot()"
   ]
  },
  {
   "cell_type": "code",
   "execution_count": null,
   "metadata": {},
   "outputs": [],
   "source": [
    "absdiff3.mean(dim=('x','y')).plot()"
   ]
  },
  {
   "cell_type": "code",
   "execution_count": null,
   "metadata": {},
   "outputs": [],
   "source": [
    "# Overlapped plots\n",
    "data1 = absdiff1.median(dim=('x','y'))\n",
    "data2 = absdiff2.median(dim=('x','y'))\n",
    "data3 = absdiff3.median(dim=('x','y'))\n",
    "tcoords = data1.coords['t']\n",
    "plt.plot(tcoords, data1, label = 'Dirichlet')\n",
    "plt.plot(tcoords, data3, label = 'Pseudo-Open', linestyle='--')\n",
    "plt.plot(tcoords, data2, label = 'Neumann')\n",
    "plt.title(\"Gaussian kernel median error, N_grid=50, N_time=1000\")\n",
    "plt.ylabel(\"$\\Delta$ concentration\")\n",
    "plt.xlabel(\"time\")\n",
    "plt.grid()\n",
    "plt.legend()"
   ]
  },
  {
   "cell_type": "code",
   "execution_count": null,
   "metadata": {},
   "outputs": [],
   "source": [
    "# Overlapped plots\n",
    "data1 = absdiff1.mean(dim=('x','y'))\n",
    "data2 = absdiff2.mean(dim=('x','y'))\n",
    "data3 = absdiff3.mean(dim=('x','y'))\n",
    "tcoords = data1.coords['t']\n",
    "plt.plot(tcoords, data1, label = 'Dirichlet')\n",
    "plt.plot(tcoords, data3, label = 'Pseudo-Open', linestyle='--')\n",
    "plt.plot(tcoords, data2, label = 'Neumann')\n",
    "plt.title(\"Gaussian kernel mean error, N_grid=50, N_time=1000\")\n",
    "plt.ylabel(\"$\\Delta$ concentration\")\n",
    "plt.xlabel(\"time\")\n",
    "plt.grid()\n",
    "plt.legend()"
   ]
  },
  {
   "cell_type": "code",
   "execution_count": null,
   "metadata": {},
   "outputs": [],
   "source": [
    "normalizer = test_analytic1.max(dim=('x','y'))\n",
    "# Overlapped plots\n",
    "data1 = absdiff1.max(dim=('x','y'))/normalizer\n",
    "data2 = absdiff2.max(dim=('x','y'))/normalizer\n",
    "data3 = absdiff3.max(dim=('x','y'))/normalizer\n",
    "tcoords = data1.coords['t']\n",
    "plt.plot(tcoords, data1, label = 'Dirichlet')\n",
    "plt.plot(tcoords, data3, label = 'Pseudo-Open', linestyle='--')\n",
    "plt.plot(tcoords, data2, label = 'Neumann')\n",
    "plt.title(\"Normalized max error, N_grid=50, N_time=1000\")\n",
    "plt.ylabel(\"concentration fraction\")\n",
    "plt.xlabel(\"time\")\n",
    "plt.grid()\n",
    "plt.legend()"
   ]
  },
  {
   "cell_type": "code",
   "execution_count": null,
   "metadata": {},
   "outputs": [],
   "source": [
    "xr.plot.contourf(test_analytic1.isel(t=600)/test_analytic1.isel(t=600).max(), levels=40, cmap='nipy_spectral')\n",
    "plt.suptitle(\"Normalized Analytic Heat Kernel\")"
   ]
  },
  {
   "cell_type": "markdown",
   "metadata": {},
   "source": [
    "# FTCS vs. Crank-Nicholson ADI"
   ]
  },
  {
   "cell_type": "code",
   "execution_count": null,
   "metadata": {},
   "outputs": [],
   "source": [
    "test_int4, test_analytic4 = test_gaussian(forward_euler_final)\n",
    "diff4 = test_int4 - test_analytic4\n"
   ]
  },
  {
   "cell_type": "code",
   "execution_count": null,
   "metadata": {},
   "outputs": [],
   "source": [
    "xr.plot.contourf(diff4.isel(t=900), levels=30)"
   ]
  },
  {
   "cell_type": "code",
   "execution_count": null,
   "metadata": {},
   "outputs": [],
   "source": [
    "absdiff4 = np.absolute(diff4)\n",
    "absdiff4.median(dim=('x','y')).plot()"
   ]
  },
  {
   "cell_type": "code",
   "execution_count": null,
   "metadata": {},
   "outputs": [],
   "source": [
    "diff1.mean(dim=('x','y')).plot(label='Crank-Nicholson')\n",
    "diff4.mean(dim=('x','y')).plot(label='FTCS')\n",
    "plt.legend() #Bruh"
   ]
  },
  {
   "cell_type": "code",
   "execution_count": null,
   "metadata": {},
   "outputs": [],
   "source": [
    "absdiff4.mean(dim=('x','y')).plot()"
   ]
  },
  {
   "cell_type": "code",
   "execution_count": null,
   "metadata": {},
   "outputs": [],
   "source": [
    "diff5 = (test_int4 - test_int1)\n",
    "contour = xr.plot.contourf(diff5.isel(t=900), levels=30)\n",
    "plt.suptitle(\"FTCS - CN, Gaussian IC, N_grid=50, timestep=900\")\n",
    "contour.set(label='normalized conc. fraction')"
   ]
  },
  {
   "cell_type": "code",
   "execution_count": null,
   "metadata": {},
   "outputs": [],
   "source": [
    "diff5.mean(dim=('x', 'y')).plot()"
   ]
  },
  {
   "cell_type": "code",
   "execution_count": null,
   "metadata": {},
   "outputs": [],
   "source": [
    "absdiff5 = np.abs(diff5)\n",
    "absdiff5.mean(dim=('x','y')).plot()"
   ]
  },
  {
   "cell_type": "code",
   "execution_count": null,
   "metadata": {},
   "outputs": [],
   "source": [
    "# Define the test parameters\n",
    "n_grid = 100\n",
    "n_time = 20000\n",
    "xrange = (-1, 1) # metres\n",
    "trange = (0, 10) # t is on the order of thousands of years\n",
    "\n",
    "# Based on this, dx = 0.4, dt = 0.5*0.4^2/0.1 = 0.008, choose dt = 0.005\n",
    "conc = Quantity2D(\n",
    "    n_grid,\n",
    "    n_time,\n",
    "    xrange,\n",
    "    xrange,\n",
    "    trange,\n",
    ")\n",
    "\n",
    "diffarr = 0.01*np.ones((10, 10)) # in m^2 y^-1\n",
    "diffarr[:,4:-4] = 0.1 # Vary along x; partial_x should be constant\n",
    "xint = np.linspace(-1, 1, 10)\n",
    "yint = np.linspace(-1, 1, 10)\n",
    "diffusion = Interpolate(diffarr, xint, yint, s=0)\n",
    "\n",
    "diffusion.plot_2D(func='func')"
   ]
  },
  {
   "cell_type": "code",
   "execution_count": null,
   "metadata": {},
   "outputs": [],
   "source": [
    "xcoords = conc.xcoords\n",
    "ycoords = conc.ycoords\n",
    "X, Y = np.meshgrid(xcoords, ycoords)\n",
    "initial_condition = 1*np.exp(- (X**2 + Y**2)/(0.1)**2)\n",
    "sources =  1*np.exp(- (X**2 + Y**2)/(0.1)**2)\n",
    "#initial_condition = np.empty_like(X)\n",
    "#initial_condition[n_grid//2, n_grid//2] = 100\n",
    "\n",
    "fig = plt.figure()\n",
    "ax = plt.axes(projection='3d')\n",
    "ax.plot_surface(X, Y, sources)"
   ]
  },
  {
   "cell_type": "code",
   "execution_count": null,
   "metadata": {},
   "outputs": [],
   "source": [
    "result_ds = forward_euler_final(conc, diffusion, initial_condition, sources)"
   ]
  },
  {
   "cell_type": "code",
   "execution_count": null,
   "metadata": {},
   "outputs": [],
   "source": [
    "xr.plot.contourf(result_ds['concentration'].isel(t=500), levels=30)"
   ]
  },
  {
   "cell_type": "code",
   "execution_count": null,
   "metadata": {},
   "outputs": [],
   "source": [
    "cumflux, totalconc, inflow, conserved_mass = plot_mass_conservation(result_ds)\n",
    "plt.title(\"FTCS scheme, 5000 timesteps\")\n",
    "plt.ylabel(\"concentration\")"
   ]
  },
  {
   "cell_type": "code",
   "execution_count": null,
   "metadata": {},
   "outputs": [],
   "source": [
    "#result2_ds = ADI(conc, diffusion, initial_condition, sources, BC='dirichlet')\n",
    "result2_ds = xr.open_dataset(\"result2_ds.nc\")\n"
   ]
  },
  {
   "cell_type": "code",
   "execution_count": null,
   "metadata": {},
   "outputs": [],
   "source": [
    "#result2_ds.to_netcdf(\"result2_ds.nc\")"
   ]
  },
  {
   "cell_type": "code",
   "execution_count": null,
   "metadata": {},
   "outputs": [],
   "source": [
    "diffds = result_ds - result2_ds"
   ]
  },
  {
   "cell_type": "code",
   "execution_count": null,
   "metadata": {},
   "outputs": [],
   "source": [
    "xr.plot.contourf(diffds['concentration'].isel(t=800), levels=30)"
   ]
  },
  {
   "cell_type": "code",
   "execution_count": null,
   "metadata": {},
   "outputs": [],
   "source": [
    "diffds.mean(dim=('x','y'))['concentration'].plot()\n",
    "plt.title(\"(FTCS - CN) mean discrepancy\")"
   ]
  },
  {
   "cell_type": "code",
   "execution_count": null,
   "metadata": {},
   "outputs": [],
   "source": [
    "xr.plot.contourf(result2_ds['concentration'].isel(t=1000), levels=30)"
   ]
  },
  {
   "cell_type": "code",
   "execution_count": null,
   "metadata": {},
   "outputs": [],
   "source": [
    "boundary = result_ds.isel(x=0).mean(dim='y')\n",
    "boundary['concentration'].plot()"
   ]
  },
  {
   "cell_type": "code",
   "execution_count": null,
   "metadata": {},
   "outputs": [],
   "source": [
    "cumflux2, totalconc2, inflow2, conserved_mass2 = plot_mass_conservation(result2_ds)\n",
    "plt.title(\"Crank-Nicholson-ADI Scheme, 5000 timesteps\")\n",
    "plt.ylabel(\"concentration\")"
   ]
  },
  {
   "cell_type": "code",
   "execution_count": null,
   "metadata": {},
   "outputs": [],
   "source": [
    "plt.plot(result_ds.coords['t'], conserved_mass/conserved_mass[0], label='dx = 0.02')\n",
    "plt.plot(result2_ds.coords['t'], conserved_mass2/conserved_mass2[0], label='dx = 0.04')\n",
    "plt.title(\"Mass Conservation Normalized vs. step size\")\n",
    "plt.ylabel(\"Concentration Fraction\")\n",
    "plt.xlabel(\"timestep\")\n",
    "plt.legend()"
   ]
  },
  {
   "cell_type": "code",
   "execution_count": null,
   "metadata": {},
   "outputs": [],
   "source": [
    "plot_mass_conservation(result_ds)\n",
    "plot_mass_conservation(result2_ds)\n",
    "plt.title(\"Crank-Nicholson-ADI Scheme, 5000 timesteps\")\n",
    "plt.ylabel(\"concentration\")"
   ]
  }
 ],
 "metadata": {
  "kernelspec": {
   "display_name": "numeric_2024_project",
   "language": "python",
   "name": "python3"
  },
  "language_info": {
   "codemirror_mode": {
    "name": "ipython",
    "version": 3
   },
   "file_extension": ".py",
   "mimetype": "text/x-python",
   "name": "python",
   "nbconvert_exporter": "python",
   "pygments_lexer": "ipython3",
   "version": "3.12.2"
  }
 },
 "nbformat": 4,
 "nbformat_minor": 2
}
