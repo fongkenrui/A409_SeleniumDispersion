{
 "cells": [
  {
   "cell_type": "code",
   "execution_count": null,
   "metadata": {},
   "outputs": [],
   "source": [
    "import numpy as np\n",
    "import xarray as xr\n",
    "from modules.crank_nicholson import crank_nicholson_1D\n",
    "from modules.classes import Quantity1D, Analytic\n",
    "import matplotlib.pyplot as plt\n",
    "from scipy.linalg import solve, solve_banded"
   ]
  },
  {
   "cell_type": "code",
   "execution_count": null,
   "metadata": {},
   "outputs": [],
   "source": [
    "# Initialize a constant diffusion coefficient function\n",
    "diffusion = Analytic(lambda x, y: x)\n",
    "diffusion.set_partial_x(lambda x, y: 1)\n",
    "# Initialize the concentration object\n",
    "# Note: Von Neumann Stability condition is (D * dt)/dx**2 < 0.5, else spurious decaying oscillations occur\n",
    "n_grid = 10\n",
    "n_time = 20\n",
    "dt = 0.0001\n",
    "dx = 0.001\n",
    "conc = Quantity1D(\n",
    "    n_grid,\n",
    "    n_time,\n",
    "    (0, n_grid*dx),\n",
    "    (0, dt*n_time),\n",
    ")\n",
    "xcoords = conc.xcoords\n",
    "#initial_condition =  10*np.exp(- (10*n_grid*dx)*(xcoords - 0.5*dx*n_grid)**2)\n",
    "initial_condition = np.zeros_like(xcoords)\n",
    "initial_condition[n_grid//2] = 100\n",
    "sources = np.zeros_like(xcoords)\n",
    "sinks = np.zeros_like(xcoords)\n",
    "#sources[8] = 1\n",
    "#sinks[11] = 5\n",
    "plt.plot(initial_condition)"
   ]
  },
  {
   "cell_type": "code",
   "execution_count": null,
   "metadata": {},
   "outputs": [],
   "source": [
    "plt.plot(sources)\n",
    "plt.plot(-sinks)"
   ]
  },
  {
   "cell_type": "code",
   "execution_count": null,
   "metadata": {},
   "outputs": [],
   "source": [
    "result_ds = crank_nicholson_1D(conc, diffusion, initial_condition, sources)"
   ]
  },
  {
   "cell_type": "code",
   "execution_count": null,
   "metadata": {},
   "outputs": [],
   "source": [
    "result_ds"
   ]
  },
  {
   "cell_type": "code",
   "execution_count": null,
   "metadata": {},
   "outputs": [],
   "source": [
    "result_ds.isel(t=2).plot()"
   ]
  },
  {
   "cell_type": "code",
   "execution_count": null,
   "metadata": {},
   "outputs": [],
   "source": [
    "result_ds.plot.contourf(levels=30)"
   ]
  }
 ],
 "metadata": {
  "kernelspec": {
   "display_name": "Python 3 (ipykernel)",
   "language": "python",
   "name": "python3"
  },
  "language_info": {
   "codemirror_mode": {
    "name": "ipython",
    "version": 3
   },
   "file_extension": ".py",
   "mimetype": "text/x-python",
   "name": "python",
   "nbconvert_exporter": "python",
   "pygments_lexer": "ipython3",
   "version": "3.12.2"
  }
 },
 "nbformat": 4,
 "nbformat_minor": 4
}
